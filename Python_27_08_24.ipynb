{
  "nbformat": 4,
  "nbformat_minor": 0,
  "metadata": {
    "colab": {
      "provenance": [],
      "authorship_tag": "ABX9TyPRM3vc9AkDfABy37M2KLh+",
      "include_colab_link": true
    },
    "kernelspec": {
      "name": "python3",
      "display_name": "Python 3"
    },
    "language_info": {
      "name": "python"
    }
  },
  "cells": [
    {
      "cell_type": "markdown",
      "metadata": {
        "id": "view-in-github",
        "colab_type": "text"
      },
      "source": [
        "<a href=\"https://colab.research.google.com/github/TrovaBruno/Aulas_Noriega_2k24_2/blob/main/Python_27_08_24.ipynb\" target=\"_parent\"><img src=\"https://colab.research.google.com/assets/colab-badge.svg\" alt=\"Open In Colab\"/></a>"
      ]
    },
    {
      "cell_type": "code",
      "execution_count": 1,
      "metadata": {
        "id": "vNlMvWsf7Scb"
      },
      "outputs": [],
      "source": [
        "def soma(a,b):\n",
        "  c=a+b\n",
        "  return c"
      ]
    },
    {
      "cell_type": "code",
      "source": [
        "rpta=soma(5,4)\n",
        "print(rpta)"
      ],
      "metadata": {
        "colab": {
          "base_uri": "https://localhost:8080/"
        },
        "id": "T_i4moI98Vka",
        "outputId": "915dd6b9-6031-41eb-b5d0-2d8295ac1750"
      },
      "execution_count": 5,
      "outputs": [
        {
          "output_type": "stream",
          "name": "stdout",
          "text": [
            "9\n"
          ]
        }
      ]
    },
    {
      "cell_type": "code",
      "source": [
        "def leitura():\n",
        "  nome=input(\"Digite seu nome: \")\n",
        "  sobrenome=input(\"Digite seu sobrenome: \")\n",
        "  nomecompleto=nome + \" \" + sobrenome\n",
        "  print(\"seu nome eh: \",nomecompleto)"
      ],
      "metadata": {
        "id": "CVX8gxzF8s4w"
      },
      "execution_count": 7,
      "outputs": []
    },
    {
      "cell_type": "code",
      "source": [
        "leitura()"
      ],
      "metadata": {
        "colab": {
          "base_uri": "https://localhost:8080/"
        },
        "id": "kjBZ0O609Pdy",
        "outputId": "3103e276-52c5-4289-d4a9-ec9a2570b1b8"
      },
      "execution_count": 8,
      "outputs": [
        {
          "output_type": "stream",
          "name": "stdout",
          "text": [
            "Digite seu nome: Bruno\n",
            "Digite seu sobrenome: Trova\n",
            "seu nome eh:  Bruno Trova\n"
          ]
        }
      ]
    },
    {
      "cell_type": "code",
      "source": [
        "def potencia(a,b):\n",
        "  c=a**b\n",
        "  return c"
      ],
      "metadata": {
        "id": "fC_yWZ9_9_VD"
      },
      "execution_count": 9,
      "outputs": []
    },
    {
      "cell_type": "code",
      "source": [
        "x=int(input(\"Digite um valor numérico: \"))\n",
        "y=int(input(\"Digite o valor da potencia: \"))\n",
        "print (potencia(x,y))"
      ],
      "metadata": {
        "colab": {
          "base_uri": "https://localhost:8080/"
        },
        "id": "WBUYq_mw-Ipz",
        "outputId": "543febbc-a93f-4e85-f2eb-7f7b1fc37180"
      },
      "execution_count": 10,
      "outputs": [
        {
          "output_type": "stream",
          "name": "stdout",
          "text": [
            "Digite um valor numérico: 2\n",
            "Digite o valor da potencia: 3\n",
            "8\n"
          ]
        }
      ]
    },
    {
      "cell_type": "code",
      "source": [
        "x=float(input(\"Digite um valor numérico: \"))\n",
        "y=float(input(\"Digite o segundo valor: \"))\n",
        "print (soma(x,y))"
      ],
      "metadata": {
        "colab": {
          "base_uri": "https://localhost:8080/"
        },
        "id": "ADP7xEZE-86N",
        "outputId": "caf50ee2-c1c2-493d-a70e-7bcdec54990b"
      },
      "execution_count": 12,
      "outputs": [
        {
          "output_type": "stream",
          "name": "stdout",
          "text": [
            "Digite um valor numérico: 3.5\n",
            "Digite o segundo valor: 2.5\n",
            "6.0\n"
          ]
        }
      ]
    },
    {
      "cell_type": "code",
      "source": [
        "nota=float(input(\"Digite sua nota: \"))\n",
        "if nota>=7:\n",
        "  print(\"Aprovado\")\n",
        "else:\n",
        "  print(\"Reprovado\")"
      ],
      "metadata": {
        "colab": {
          "base_uri": "https://localhost:8080/"
        },
        "id": "sEcoyZUNAIAP",
        "outputId": "027e42c0-b875-4cad-96b5-7a096376b46e"
      },
      "execution_count": 13,
      "outputs": [
        {
          "output_type": "stream",
          "name": "stdout",
          "text": [
            "Digite sua nota: 3\n",
            "Reprovado\n"
          ]
        }
      ]
    },
    {
      "cell_type": "code",
      "source": [
        "idade=int(input(\"Digite sua idade: \"))\n",
        "if idade<3:\n",
        "  print(\"bebezinho\")\n",
        "elif idade <13:\n",
        "  print(\"criança\")\n",
        "elif idade <18:\n",
        "  print(\"adolescente\")\n",
        "else:\n",
        "  print(\"adulto\")\n"
      ],
      "metadata": {
        "colab": {
          "base_uri": "https://localhost:8080/"
        },
        "id": "OujAYKVxAH-x",
        "outputId": "64e9d369-d342-4351-c530-6318d47ddfba"
      },
      "execution_count": 15,
      "outputs": [
        {
          "output_type": "stream",
          "name": "stdout",
          "text": [
            "Digite sua idade: 22\n",
            "adulto\n"
          ]
        }
      ]
    },
    {
      "cell_type": "code",
      "source": [
        "Volume=float(input(\"Digite qual volume você quer calcular? \"))\n",
        "if Volume==1:\n",
        "  print(\"Você escolheu calcular o volume do cilinddro\")\n",
        "  r=float(input(\"digite o valor do raio \"))\n",
        "  h=float(input(\"digite o valor da altura \"))\n",
        "  print(3.14*(r**2)*h)\n",
        "\n",
        "elif Volume==2:\n",
        "  print(\"Voc~e escolheu calcular o valor da esfera \")\n",
        "  r=float(input(\"digite o valor do raio \"))\n",
        "  print(4/3*3.14*r**3/3)\n",
        "elif Volume==3:\n",
        "  print(\"Você escolheu calcular o volume da aresta \")\n",
        "  a=float(input(\"digite o valor do lado \"))\n",
        "  print(a**3)\n",
        "else:\n",
        "  print(\"Opção inválida\")"
      ],
      "metadata": {
        "colab": {
          "base_uri": "https://localhost:8080/"
        },
        "id": "q-HTjeSjDFO1",
        "outputId": "a960b383-f929-4290-ca0e-2aa612a2f911"
      },
      "execution_count": 26,
      "outputs": [
        {
          "output_type": "stream",
          "name": "stdout",
          "text": [
            "Digite qual volume você quer calcular? 2\n",
            "Voc~e escolheu calcular o valor da esfera \n",
            "digite o valor do raio 3\n",
            "37.68\n"
          ]
        }
      ]
    },
    {
      "cell_type": "code",
      "source": [
        "senha=\"54321\"\n",
        "leitura=\" \"\n",
        "contador=0\n",
        "while (leitura!=senha):\n",
        "  leitura=input(\"Digite a sua senha: \")\n",
        "  if leitura==senha:\n",
        "    print(\"Acesso permitido\")\n",
        "  else:\n",
        "    print(\"senha incorreta, Tente novamente\")\n",
        "    contador=contador+1\n",
        "    if (contador==3):\n",
        "      print(\"limite de tentativas esgotadas\")\n",
        "      print(\"entre em contato com o admin \")\n",
        "      break\n",
        "\n",
        "\n"
      ],
      "metadata": {
        "colab": {
          "base_uri": "https://localhost:8080/"
        },
        "id": "ar_GeQsLQyCd",
        "outputId": "73812ada-5d73-4855-aede-a9c2fda9e250"
      },
      "execution_count": 33,
      "outputs": [
        {
          "output_type": "stream",
          "name": "stdout",
          "text": [
            "Digite a sua senha: 78\n",
            "senha incorreta, Tente novamente\n",
            "Digite a sua senha: 98\n",
            "senha incorreta, Tente novamente\n",
            "Digite a sua senha: 22\n",
            "senha incorreta, Tente novamente\n",
            "limite de tentativas esgotadas\n",
            "entre em contato com o admin \n"
          ]
        }
      ]
    },
    {
      "cell_type": "code",
      "source": [
        "s=0\n",
        "for x in range (1, 20, 3):\n",
        "  s=s+x\n",
        "  print(s)"
      ],
      "metadata": {
        "colab": {
          "base_uri": "https://localhost:8080/"
        },
        "id": "T4LSfXNaUBWq",
        "outputId": "1b80bf64-359a-4b02-9b07-85d2eef84f9c"
      },
      "execution_count": 38,
      "outputs": [
        {
          "output_type": "stream",
          "name": "stdout",
          "text": [
            "1\n",
            "5\n",
            "12\n",
            "22\n",
            "35\n",
            "51\n",
            "70\n"
          ]
        }
      ]
    },
    {
      "cell_type": "code",
      "source": [
        "Lista=[4.5, 5.6, 7.7, 3.5, 8.9, 9.0, 4.5]\n",
        "soma=0\n",
        "for nota in Lista:\n",
        "  soma=soma+nota\n",
        "media=soma/len(Lista)\n",
        "print(\"a media é: \", '{:.4f}'.format (media))\n"
      ],
      "metadata": {
        "colab": {
          "base_uri": "https://localhost:8080/"
        },
        "id": "9zbIviOLVdQy",
        "outputId": "56297792-0e6a-4ffe-fff6-f8f9625747ec"
      },
      "execution_count": 43,
      "outputs": [
        {
          "output_type": "stream",
          "name": "stdout",
          "text": [
            "a media é:  6.2429\n"
          ]
        }
      ]
    },
    {
      "cell_type": "code",
      "source": [
        "#criação de função para medias de uma lista\n",
        "def calcMedia(Lista):\n",
        "  soma=0\n",
        "  for nota in Lista:\n",
        "    soma=soma+nota\n",
        "  return soma/len(Lista)"
      ],
      "metadata": {
        "id": "Fai77FmIX7_B"
      },
      "execution_count": 58,
      "outputs": []
    },
    {
      "cell_type": "code",
      "source": [
        "Lista={4.5, 5.6, 7.7, 3.5, 8.9, 9.0, 4.5}\n",
        "media=calcMedia(Lista)\n",
        "print(\"a media é: \", '{:.4f}'.format (media))"
      ],
      "metadata": {
        "colab": {
          "base_uri": "https://localhost:8080/"
        },
        "id": "jvHJJ4VyYWX3",
        "outputId": "1f9489b2-5cfa-4192-9c45-36a322fabd77"
      },
      "execution_count": 59,
      "outputs": [
        {
          "output_type": "stream",
          "name": "stdout",
          "text": [
            "a media é:  6.5333\n"
          ]
        }
      ]
    },
    {
      "cell_type": "markdown",
      "source": [],
      "metadata": {
        "id": "BYqrvFGAQxxV"
      }
    }
  ]
}