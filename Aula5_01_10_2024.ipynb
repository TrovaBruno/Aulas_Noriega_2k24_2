{
  "nbformat": 4,
  "nbformat_minor": 0,
  "metadata": {
    "colab": {
      "provenance": [],
      "authorship_tag": "ABX9TyOLrJVfk5sBTy1KY0R3BVWQ",
      "include_colab_link": true
    },
    "kernelspec": {
      "name": "python3",
      "display_name": "Python 3"
    },
    "language_info": {
      "name": "python"
    }
  },
  "cells": [
    {
      "cell_type": "markdown",
      "metadata": {
        "id": "view-in-github",
        "colab_type": "text"
      },
      "source": [
        "<a href=\"https://colab.research.google.com/github/TrovaBruno/Aulas_Noriega_2k24_2/blob/main/Aula5_01_10_2024.ipynb\" target=\"_parent\"><img src=\"https://colab.research.google.com/assets/colab-badge.svg\" alt=\"Open In Colab\"/></a>"
      ]
    },
    {
      "cell_type": "code",
      "execution_count": 28,
      "metadata": {
        "id": "HkMP1tWiYcEF"
      },
      "outputs": [],
      "source": [
        "from sklearn.datasets import load_iris"
      ]
    },
    {
      "cell_type": "code",
      "source": [
        "from sklearn import tree"
      ],
      "metadata": {
        "id": "EQiRHB-1ZNKM"
      },
      "execution_count": 29,
      "outputs": []
    },
    {
      "cell_type": "code",
      "source": [
        "iris = load_iris()\n",
        "print(iris['DESCR']) ##baixamos a base de dados iris"
      ],
      "metadata": {
        "colab": {
          "base_uri": "https://localhost:8080/"
        },
        "id": "ZPpmzU7SZSnJ",
        "outputId": "0b2752fe-0f48-4209-f214-38be514df75e"
      },
      "execution_count": 30,
      "outputs": [
        {
          "output_type": "stream",
          "name": "stdout",
          "text": [
            ".. _iris_dataset:\n",
            "\n",
            "Iris plants dataset\n",
            "--------------------\n",
            "\n",
            "**Data Set Characteristics:**\n",
            "\n",
            ":Number of Instances: 150 (50 in each of three classes)\n",
            ":Number of Attributes: 4 numeric, predictive attributes and the class\n",
            ":Attribute Information:\n",
            "    - sepal length in cm\n",
            "    - sepal width in cm\n",
            "    - petal length in cm\n",
            "    - petal width in cm\n",
            "    - class:\n",
            "            - Iris-Setosa\n",
            "            - Iris-Versicolour\n",
            "            - Iris-Virginica\n",
            "\n",
            ":Summary Statistics:\n",
            "\n",
            "============== ==== ==== ======= ===== ====================\n",
            "                Min  Max   Mean    SD   Class Correlation\n",
            "============== ==== ==== ======= ===== ====================\n",
            "sepal length:   4.3  7.9   5.84   0.83    0.7826\n",
            "sepal width:    2.0  4.4   3.05   0.43   -0.4194\n",
            "petal length:   1.0  6.9   3.76   1.76    0.9490  (high!)\n",
            "petal width:    0.1  2.5   1.20   0.76    0.9565  (high!)\n",
            "============== ==== ==== ======= ===== ====================\n",
            "\n",
            ":Missing Attribute Values: None\n",
            ":Class Distribution: 33.3% for each of 3 classes.\n",
            ":Creator: R.A. Fisher\n",
            ":Donor: Michael Marshall (MARSHALL%PLU@io.arc.nasa.gov)\n",
            ":Date: July, 1988\n",
            "\n",
            "The famous Iris database, first used by Sir R.A. Fisher. The dataset is taken\n",
            "from Fisher's paper. Note that it's the same as in R, but not as in the UCI\n",
            "Machine Learning Repository, which has two wrong data points.\n",
            "\n",
            "This is perhaps the best known database to be found in the\n",
            "pattern recognition literature.  Fisher's paper is a classic in the field and\n",
            "is referenced frequently to this day.  (See Duda & Hart, for example.)  The\n",
            "data set contains 3 classes of 50 instances each, where each class refers to a\n",
            "type of iris plant.  One class is linearly separable from the other 2; the\n",
            "latter are NOT linearly separable from each other.\n",
            "\n",
            ".. dropdown:: References\n",
            "\n",
            "  - Fisher, R.A. \"The use of multiple measurements in taxonomic problems\"\n",
            "    Annual Eugenics, 7, Part II, 179-188 (1936); also in \"Contributions to\n",
            "    Mathematical Statistics\" (John Wiley, NY, 1950).\n",
            "  - Duda, R.O., & Hart, P.E. (1973) Pattern Classification and Scene Analysis.\n",
            "    (Q327.D83) John Wiley & Sons.  ISBN 0-471-22361-1.  See page 218.\n",
            "  - Dasarathy, B.V. (1980) \"Nosing Around the Neighborhood: A New System\n",
            "    Structure and Classification Rule for Recognition in Partially Exposed\n",
            "    Environments\".  IEEE Transactions on Pattern Analysis and Machine\n",
            "    Intelligence, Vol. PAMI-2, No. 1, 67-71.\n",
            "  - Gates, G.W. (1972) \"The Reduced Nearest Neighbor Rule\".  IEEE Transactions\n",
            "    on Information Theory, May 1972, 431-433.\n",
            "  - See also: 1988 MLC Proceedings, 54-64.  Cheeseman et al\"s AUTOCLASS II\n",
            "    conceptual clustering system finds 3 classes in the data.\n",
            "  - Many, many more ...\n",
            "\n"
          ]
        }
      ]
    },
    {
      "cell_type": "code",
      "source": [
        "print(iris.data[52]) ##pegando o elemento 52 dos dados da iris"
      ],
      "metadata": {
        "colab": {
          "base_uri": "https://localhost:8080/"
        },
        "id": "Kp3QAmTsfUlA",
        "outputId": "f9430d17-2e55-4c22-da06-ab2bc14536a3"
      },
      "execution_count": 41,
      "outputs": [
        {
          "output_type": "stream",
          "name": "stdout",
          "text": [
            "[6.9 3.1 4.9 1.5]\n"
          ]
        }
      ]
    },
    {
      "cell_type": "code",
      "source": [
        "from sklearn.model_selection import train_test_split ##A função train_test_split da biblioteca scikit-learn é usada para dividir arrays ou matrizes em subconjuntos aleatórios de treino e teste."
      ],
      "metadata": {
        "id": "-ra2dttYaC9q"
      },
      "execution_count": 31,
      "outputs": []
    },
    {
      "cell_type": "code",
      "source": [
        "X_train, X_test, y_train, y_test = train_test_split(iris.data, iris\n",
        ".target, test_size=0.25) #iris.data: Contém as características (features) das flores Iris\n",
        "##iris.target: Contém as classes (espécies) das flores Iris.\n",
        "##test_size=0.25: Especifica que 25% dos dados devem ser usados para teste e 75% para treino."
      ],
      "metadata": {
        "id": "nn3KiT1eaFt9"
      },
      "execution_count": 32,
      "outputs": []
    },
    {
      "cell_type": "code",
      "source": [
        "clf = tree.DecisionTreeClassifier(criterion='entropy', max_depth=3) ##tree.DecisionTreeClassifier: Cria um classificador de árvore de decisão.\n",
        "##criterion='entropy': Usa a entropia como critério para medir a qualidade das divisões.\n",
        "##max_depth=3: Limita a profundidade máxima da árvore a 3 níveis, para evitar overfitting.\n",
        "clf = clf.fit(X_train, y_train) ##clf.fit(X_train, y_train): Treina o modelo usando os dados de treino (X_train) e as classes correspondentes (y_train).\n",
        "predictions = clf.predict(X_test)\n",
        "##clf.predict(X_test): Usa o modelo treinado para prever as classes dos dados de teste (X_test).\n",
        "##predictions: Armazena as previsões feitas pelo modelo."
      ],
      "metadata": {
        "id": "eSuJmlyIaTjH"
      },
      "execution_count": 33,
      "outputs": []
    },
    {
      "cell_type": "code",
      "source": [
        "import pandas as pd"
      ],
      "metadata": {
        "id": "ChvQG7IzaZxw"
      },
      "execution_count": 34,
      "outputs": []
    },
    {
      "cell_type": "code",
      "source": [
        "print(\"\\nMatriz de confusão detalhada:\\n\",\n",
        "pd.crosstab(y_test, predictions, rownames=['Real'], colnames=\n",
        "['Predito'],\n",
        "margins=True, margins_name='Todos'))\n",
        "##pd.crosstab(y_test, predictions, rownames=['Real'], colnames=['Predito']): Cria uma tabela de contingência (matriz de confusão) que compara os valores reais (y_test) com as previsões (predictions).\n",
        "##rownames=['Real']: Nomeia as linhas da tabela como “Real”, representando as classes verdadeiras.\n",
        "##colnames=['Predito']: Nomeia as colunas da tabela como “Predito”, representando as classes previstas.\n",
        "##margins=True: Adiciona margens à tabela, que mostram os totais das linhas e colunas.\n",
        "##margins_name='Todos': Nomeia a margem adicionada como “Todos”."
      ],
      "metadata": {
        "colab": {
          "base_uri": "https://localhost:8080/"
        },
        "id": "MI3UDwuzacWE",
        "outputId": "bab0456b-2ee5-4b69-f49e-ce4f692fc113"
      },
      "execution_count": 35,
      "outputs": [
        {
          "output_type": "stream",
          "name": "stdout",
          "text": [
            "\n",
            "Matriz de confusão detalhada:\n",
            " Predito   0   1  2  Todos\n",
            "Real                     \n",
            "0        15   0  0     15\n",
            "1         0  14  2     16\n",
            "2         0   0  7      7\n",
            "Todos    15  14  9     38\n"
          ]
        }
      ]
    },
    {
      "cell_type": "code",
      "source": [
        "import sklearn.metrics as metrics ##A biblioteca metrics do scikit-learn contém várias funções para avaliar a performance de modelos de machine learning."
      ],
      "metadata": {
        "id": "rGXddpTpaqAu"
      },
      "execution_count": 36,
      "outputs": []
    },
    {
      "cell_type": "code",
      "source": [
        "print(\"Relatório sobre a qualidade:\\n\") ##Exibe uma mensagem indicando que o relatório de qualidade será mostrado a seguir.\n",
        "print(metrics.classification_report(y_test, predictions, target_names=['Setosa', 'Versicolor', 'Virgínica']))\n",
        "#metrics.classification_report(y_test, predictions, target_names=['Setosa', 'Versicolor', 'Virgínica']): Gera um relatório detalhado sobre a performance do modelo.\n",
        "#y_test: Classes verdadeiras dos dados de teste.\n",
        "#predictions: Classes previstas pelo modelo.\n",
        "#target_names=['Setosa', 'Versicolor', 'Virgínica']: Nomes das classes para facilitar a leitura do relatório."
      ],
      "metadata": {
        "colab": {
          "base_uri": "https://localhost:8080/"
        },
        "id": "HugkAnCXar7M",
        "outputId": "fd118156-af38-4242-dd46-3f41b7000ee9"
      },
      "execution_count": 37,
      "outputs": [
        {
          "output_type": "stream",
          "name": "stdout",
          "text": [
            "Relatório sobre a qualidade:\n",
            "\n",
            "              precision    recall  f1-score   support\n",
            "\n",
            "      Setosa       1.00      1.00      1.00        15\n",
            "  Versicolor       1.00      0.88      0.93        16\n",
            "   Virgínica       0.78      1.00      0.88         7\n",
            "\n",
            "    accuracy                           0.95        38\n",
            "   macro avg       0.93      0.96      0.94        38\n",
            "weighted avg       0.96      0.95      0.95        38\n",
            "\n"
          ]
        }
      ]
    },
    {
      "cell_type": "code",
      "source": [
        "import graphviz ##A biblioteca graphviz é usada para criar visualizações de grafos, como árvores de decisão."
      ],
      "metadata": {
        "id": "PiXsORwda1dT"
      },
      "execution_count": 38,
      "outputs": []
    },
    {
      "cell_type": "code",
      "source": [
        "dot_data = tree.export_graphviz(clf, out_file=None) ##tree.export_graphviz(clf, out_file=None): Exporta a árvore de decisão clf para o formato DOT, que é um formato de texto usado pelo graphviz.\n",
        "graph = graphviz.Source(dot_data)##graphviz.Source(dot_data): Cria uma fonte de gráfico a partir dos dados DOT.\n",
        "graph.render(\"iris\") ##graph.render(\"iris\"): Renderiza o gráfico e salva como um arquivo com o nome “iris”.\n",
        "dot_data = tree.export_graphviz(clf, out_file=None,\n",
        "feature_names=iris.feature_names,\n",
        "class_names=iris.target_names,\n",
        "filled=True, rounded=True,\n",
        "special_characters=True)\n",
        "##feature_names=iris.feature_names: Adiciona os nomes das características (features) das flores Iris.\n",
        "##class_names=iris.target_names: Adiciona os nomes das classes (espécies) das flores Iris.\n",
        "##filled=True: Preenche os nós da árvore com cores.\n",
        "##rounded=True: Usa nós arredondados.\n",
        "##special_characters=True: Permite o uso de caracteres especiais.\n",
        "graph = graphviz.Source(dot_data, format=\"png\") ##graphviz.Source(dot_data, format=\"png\"): Cria uma fonte de gráfico a partir dos dados DOT e especifica o formato de saída como PNG.\n",
        "graph ##graph: Exibe o gráfico gerado."
      ],
      "metadata": {
        "colab": {
          "base_uri": "https://localhost:8080/",
          "height": 599
        },
        "id": "jPdW5rIUa86q",
        "outputId": "fb60f6a6-a6ad-4749-8d6a-fa8863ba7310"
      },
      "execution_count": 39,
      "outputs": [
        {
          "output_type": "execute_result",
          "data": {
            "image/svg+xml": "<?xml version=\"1.0\" encoding=\"UTF-8\" standalone=\"no\"?>\n<!DOCTYPE svg PUBLIC \"-//W3C//DTD SVG 1.1//EN\"\n \"http://www.w3.org/Graphics/SVG/1.1/DTD/svg11.dtd\">\n<!-- Generated by graphviz version 2.43.0 (0)\n -->\n<!-- Title: Tree Pages: 1 -->\n<svg width=\"357pt\" height=\"433pt\"\n viewBox=\"0.00 0.00 357.00 433.00\" xmlns=\"http://www.w3.org/2000/svg\" xmlns:xlink=\"http://www.w3.org/1999/xlink\">\n<g id=\"graph0\" class=\"graph\" transform=\"scale(1 1) rotate(0) translate(4 429)\">\n<title>Tree</title>\n<polygon fill=\"white\" stroke=\"transparent\" points=\"-4,4 -4,-429 353,-429 353,4 -4,4\"/>\n<!-- 0 -->\n<g id=\"node1\" class=\"node\">\n<title>0</title>\n<path fill=\"#f2eafc\" stroke=\"black\" d=\"M196.5,-425C196.5,-425 74.5,-425 74.5,-425 68.5,-425 62.5,-419 62.5,-413 62.5,-413 62.5,-354 62.5,-354 62.5,-348 68.5,-342 74.5,-342 74.5,-342 196.5,-342 196.5,-342 202.5,-342 208.5,-348 208.5,-354 208.5,-354 208.5,-413 208.5,-413 208.5,-419 202.5,-425 196.5,-425\"/>\n<text text-anchor=\"start\" x=\"70.5\" y=\"-409.8\" font-family=\"Helvetica,sans-Serif\" font-size=\"14.00\">petal width (cm) ≤ 0.8</text>\n<text text-anchor=\"start\" x=\"88\" y=\"-394.8\" font-family=\"Helvetica,sans-Serif\" font-size=\"14.00\">entropy = 1.577</text>\n<text text-anchor=\"start\" x=\"90.5\" y=\"-379.8\" font-family=\"Helvetica,sans-Serif\" font-size=\"14.00\">samples = 112</text>\n<text text-anchor=\"start\" x=\"77.5\" y=\"-364.8\" font-family=\"Helvetica,sans-Serif\" font-size=\"14.00\">value = [35, 34, 43]</text>\n<text text-anchor=\"start\" x=\"87\" y=\"-349.8\" font-family=\"Helvetica,sans-Serif\" font-size=\"14.00\">class = virginica</text>\n</g>\n<!-- 1 -->\n<g id=\"node2\" class=\"node\">\n<title>1</title>\n<path fill=\"#e58139\" stroke=\"black\" d=\"M105,-298.5C105,-298.5 12,-298.5 12,-298.5 6,-298.5 0,-292.5 0,-286.5 0,-286.5 0,-242.5 0,-242.5 0,-236.5 6,-230.5 12,-230.5 12,-230.5 105,-230.5 105,-230.5 111,-230.5 117,-236.5 117,-242.5 117,-242.5 117,-286.5 117,-286.5 117,-292.5 111,-298.5 105,-298.5\"/>\n<text text-anchor=\"start\" x=\"18.5\" y=\"-283.3\" font-family=\"Helvetica,sans-Serif\" font-size=\"14.00\">entropy = 0.0</text>\n<text text-anchor=\"start\" x=\"17.5\" y=\"-268.3\" font-family=\"Helvetica,sans-Serif\" font-size=\"14.00\">samples = 35</text>\n<text text-anchor=\"start\" x=\"8\" y=\"-253.3\" font-family=\"Helvetica,sans-Serif\" font-size=\"14.00\">value = [35, 0, 0]</text>\n<text text-anchor=\"start\" x=\"15\" y=\"-238.3\" font-family=\"Helvetica,sans-Serif\" font-size=\"14.00\">class = setosa</text>\n</g>\n<!-- 0&#45;&gt;1 -->\n<g id=\"edge1\" class=\"edge\">\n<title>0&#45;&gt;1</title>\n<path fill=\"none\" stroke=\"black\" d=\"M108.79,-341.91C101.38,-330.65 93.33,-318.42 85.88,-307.11\"/>\n<polygon fill=\"black\" stroke=\"black\" points=\"88.75,-305.1 80.33,-298.67 82.9,-308.94 88.75,-305.1\"/>\n<text text-anchor=\"middle\" x=\"75.28\" y=\"-319.45\" font-family=\"Helvetica,sans-Serif\" font-size=\"14.00\">True</text>\n</g>\n<!-- 2 -->\n<g id=\"node3\" class=\"node\">\n<title>2</title>\n<path fill=\"#e5d6fa\" stroke=\"black\" d=\"M277.5,-306C277.5,-306 147.5,-306 147.5,-306 141.5,-306 135.5,-300 135.5,-294 135.5,-294 135.5,-235 135.5,-235 135.5,-229 141.5,-223 147.5,-223 147.5,-223 277.5,-223 277.5,-223 283.5,-223 289.5,-229 289.5,-235 289.5,-235 289.5,-294 289.5,-294 289.5,-300 283.5,-306 277.5,-306\"/>\n<text text-anchor=\"start\" x=\"143.5\" y=\"-290.8\" font-family=\"Helvetica,sans-Serif\" font-size=\"14.00\">petal width (cm) ≤ 1.75</text>\n<text text-anchor=\"start\" x=\"168.5\" y=\"-275.8\" font-family=\"Helvetica,sans-Serif\" font-size=\"14.00\">entropy = 0.99</text>\n<text text-anchor=\"start\" x=\"171.5\" y=\"-260.8\" font-family=\"Helvetica,sans-Serif\" font-size=\"14.00\">samples = 77</text>\n<text text-anchor=\"start\" x=\"158\" y=\"-245.8\" font-family=\"Helvetica,sans-Serif\" font-size=\"14.00\">value = [0, 34, 43]</text>\n<text text-anchor=\"start\" x=\"164\" y=\"-230.8\" font-family=\"Helvetica,sans-Serif\" font-size=\"14.00\">class = virginica</text>\n</g>\n<!-- 0&#45;&gt;2 -->\n<g id=\"edge2\" class=\"edge\">\n<title>0&#45;&gt;2</title>\n<path fill=\"none\" stroke=\"black\" d=\"M162.21,-341.91C168.01,-333.1 174.2,-323.7 180.18,-314.61\"/>\n<polygon fill=\"black\" stroke=\"black\" points=\"183.26,-316.3 185.83,-306.02 177.41,-312.45 183.26,-316.3\"/>\n<text text-anchor=\"middle\" x=\"190.88\" y=\"-326.81\" font-family=\"Helvetica,sans-Serif\" font-size=\"14.00\">False</text>\n</g>\n<!-- 3 -->\n<g id=\"node4\" class=\"node\">\n<title>3</title>\n<path fill=\"#56e994\" stroke=\"black\" d=\"M202,-187C202,-187 67,-187 67,-187 61,-187 55,-181 55,-175 55,-175 55,-116 55,-116 55,-110 61,-104 67,-104 67,-104 202,-104 202,-104 208,-104 214,-110 214,-116 214,-116 214,-175 214,-175 214,-181 208,-187 202,-187\"/>\n<text text-anchor=\"start\" x=\"63\" y=\"-171.8\" font-family=\"Helvetica,sans-Serif\" font-size=\"14.00\">petal length (cm) ≤ 4.95</text>\n<text text-anchor=\"start\" x=\"87\" y=\"-156.8\" font-family=\"Helvetica,sans-Serif\" font-size=\"14.00\">entropy = 0.552</text>\n<text text-anchor=\"start\" x=\"93.5\" y=\"-141.8\" font-family=\"Helvetica,sans-Serif\" font-size=\"14.00\">samples = 39</text>\n<text text-anchor=\"start\" x=\"84\" y=\"-126.8\" font-family=\"Helvetica,sans-Serif\" font-size=\"14.00\">value = [0, 34, 5]</text>\n<text text-anchor=\"start\" x=\"82\" y=\"-111.8\" font-family=\"Helvetica,sans-Serif\" font-size=\"14.00\">class = versicolor</text>\n</g>\n<!-- 2&#45;&gt;3 -->\n<g id=\"edge3\" class=\"edge\">\n<title>2&#45;&gt;3</title>\n<path fill=\"none\" stroke=\"black\" d=\"M185.44,-222.91C179.57,-214.1 173.3,-204.7 167.24,-195.61\"/>\n<polygon fill=\"black\" stroke=\"black\" points=\"169.97,-193.4 161.51,-187.02 164.15,-197.28 169.97,-193.4\"/>\n</g>\n<!-- 6 -->\n<g id=\"node7\" class=\"node\">\n<title>6</title>\n<path fill=\"#8139e5\" stroke=\"black\" d=\"M337,-179.5C337,-179.5 244,-179.5 244,-179.5 238,-179.5 232,-173.5 232,-167.5 232,-167.5 232,-123.5 232,-123.5 232,-117.5 238,-111.5 244,-111.5 244,-111.5 337,-111.5 337,-111.5 343,-111.5 349,-117.5 349,-123.5 349,-123.5 349,-167.5 349,-167.5 349,-173.5 343,-179.5 337,-179.5\"/>\n<text text-anchor=\"start\" x=\"250.5\" y=\"-164.3\" font-family=\"Helvetica,sans-Serif\" font-size=\"14.00\">entropy = 0.0</text>\n<text text-anchor=\"start\" x=\"249.5\" y=\"-149.3\" font-family=\"Helvetica,sans-Serif\" font-size=\"14.00\">samples = 38</text>\n<text text-anchor=\"start\" x=\"240\" y=\"-134.3\" font-family=\"Helvetica,sans-Serif\" font-size=\"14.00\">value = [0, 0, 38]</text>\n<text text-anchor=\"start\" x=\"242\" y=\"-119.3\" font-family=\"Helvetica,sans-Serif\" font-size=\"14.00\">class = virginica</text>\n</g>\n<!-- 2&#45;&gt;6 -->\n<g id=\"edge6\" class=\"edge\">\n<title>2&#45;&gt;6</title>\n<path fill=\"none\" stroke=\"black\" d=\"M239.56,-222.91C247.07,-211.65 255.22,-199.42 262.76,-188.11\"/>\n<polygon fill=\"black\" stroke=\"black\" points=\"265.75,-189.93 268.39,-179.67 259.93,-186.05 265.75,-189.93\"/>\n</g>\n<!-- 4 -->\n<g id=\"node5\" class=\"node\">\n<title>4</title>\n<path fill=\"#3fe685\" stroke=\"black\" d=\"M116,-68C116,-68 19,-68 19,-68 13,-68 7,-62 7,-56 7,-56 7,-12 7,-12 7,-6 13,0 19,0 19,0 116,0 116,0 122,0 128,-6 128,-12 128,-12 128,-56 128,-56 128,-62 122,-68 116,-68\"/>\n<text text-anchor=\"start\" x=\"20\" y=\"-52.8\" font-family=\"Helvetica,sans-Serif\" font-size=\"14.00\">entropy = 0.191</text>\n<text text-anchor=\"start\" x=\"26.5\" y=\"-37.8\" font-family=\"Helvetica,sans-Serif\" font-size=\"14.00\">samples = 34</text>\n<text text-anchor=\"start\" x=\"17\" y=\"-22.8\" font-family=\"Helvetica,sans-Serif\" font-size=\"14.00\">value = [0, 33, 1]</text>\n<text text-anchor=\"start\" x=\"15\" y=\"-7.8\" font-family=\"Helvetica,sans-Serif\" font-size=\"14.00\">class = versicolor</text>\n</g>\n<!-- 3&#45;&gt;4 -->\n<g id=\"edge4\" class=\"edge\">\n<title>3&#45;&gt;4</title>\n<path fill=\"none\" stroke=\"black\" d=\"M109.55,-103.73C104.19,-94.97 98.52,-85.7 93.14,-76.91\"/>\n<polygon fill=\"black\" stroke=\"black\" points=\"96.08,-75 87.88,-68.3 90.11,-78.66 96.08,-75\"/>\n</g>\n<!-- 5 -->\n<g id=\"node6\" class=\"node\">\n<title>5</title>\n<path fill=\"#a06aec\" stroke=\"black\" d=\"M247,-68C247,-68 158,-68 158,-68 152,-68 146,-62 146,-56 146,-56 146,-12 146,-12 146,-6 152,0 158,0 158,0 247,0 247,0 253,0 259,-6 259,-12 259,-12 259,-56 259,-56 259,-62 253,-68 247,-68\"/>\n<text text-anchor=\"start\" x=\"155\" y=\"-52.8\" font-family=\"Helvetica,sans-Serif\" font-size=\"14.00\">entropy = 0.722</text>\n<text text-anchor=\"start\" x=\"165\" y=\"-37.8\" font-family=\"Helvetica,sans-Serif\" font-size=\"14.00\">samples = 5</text>\n<text text-anchor=\"start\" x=\"155.5\" y=\"-22.8\" font-family=\"Helvetica,sans-Serif\" font-size=\"14.00\">value = [0, 1, 4]</text>\n<text text-anchor=\"start\" x=\"154\" y=\"-7.8\" font-family=\"Helvetica,sans-Serif\" font-size=\"14.00\">class = virginica</text>\n</g>\n<!-- 3&#45;&gt;5 -->\n<g id=\"edge5\" class=\"edge\">\n<title>3&#45;&gt;5</title>\n<path fill=\"none\" stroke=\"black\" d=\"M159.82,-103.73C165.26,-94.97 171.01,-85.7 176.48,-76.91\"/>\n<polygon fill=\"black\" stroke=\"black\" points=\"179.52,-78.64 181.82,-68.3 173.57,-74.95 179.52,-78.64\"/>\n</g>\n</g>\n</svg>\n",
            "text/plain": [
              "<graphviz.sources.Source at 0x7faf4b0eb610>"
            ]
          },
          "metadata": {},
          "execution_count": 39
        }
      ]
    }
  ]
}